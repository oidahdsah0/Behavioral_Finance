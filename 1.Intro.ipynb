{
 "cells": [
  {
   "cell_type": "code",
   "metadata": {
    "collapsed": true,
    "pycharm": {
     "name": "#%%\n"
    }
   },
   "source": [
    "# 乐学偶得（lexueoude.com）出品,公众号1：乐学偶得 2：乐学FinTech\n",
    "# 主讲人：Williamjiamin"
   ],
   "execution_count": null,
   "outputs": []
  },
  {
   "cell_type": "markdown",
   "source": [
    "1.Traditional Finance\n",
    "\n",
    "1.1 Value-Price\n",
    "1.2 Utility Theory(爽度)\n",
    "1.2.1 Completeness(A B: 1.A>B 2.B>A 3.A=B)\n",
    "1.2.2 Transitivity (A B C : A > B , B > C  ---> A > C)\n",
    "1.2.3 Independence (A B, A > B ----> A + xC > B + xC)\n",
    "1.2.4 Continuity (A B C : A >B >C   D(mA + nC)=B)"
   ],
   "metadata": {
    "collapsed": false,
    "pycharm": {
     "name": "#%% md\n"
    }
   }
  }
 ],
 "metadata": {
  "kernelspec": {
   "display_name": "Python 3",
   "language": "python",
   "name": "python3"
  },
  "language_info": {
   "codemirror_mode": {
    "name": "ipython",
    "version": 2
   },
   "file_extension": ".py",
   "mimetype": "text/x-python",
   "name": "python",
   "nbconvert_exporter": "python",
   "pygments_lexer": "ipython2",
   "version": "2.7.6"
  }
 },
 "nbformat": 4,
 "nbformat_minor": 0
}